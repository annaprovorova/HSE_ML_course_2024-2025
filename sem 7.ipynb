{
 "cells": [
  {
   "cell_type": "markdown",
   "metadata": {},
   "source": [
    "# Проверка адекватности моделей\n",
    "\n",
    "> *Гораздо легче что-то измерить, чем понять, что именно вы измеряете* \n",
    ">\n",
    "> *Джон Уильям Салливан*"
   ]
  },
  {
   "cell_type": "markdown",
   "metadata": {},
   "source": [
    "Задание: Проверить адекватность полученных ранее (на семинаре 5) моделей, построить графики исходных и полученных данных, построить Boxplot и скрипичные диаграммы исходных и полученных данных, проверить адекватность полученных моделей с помощью критерия, Фишера, Стьюдента. Произвести выбор модели на основе полученных результатов."
   ]
  },
  {
   "cell_type": "markdown",
   "metadata": {},
   "source": [
    "## Методы оценки\n",
    "\n",
    "### 1. Визуальный анализ и оценка отклонений (диаграммы размаха)\n",
    "\n",
    "1. Можно визуально сравнить выборку и прогнозные значения на линейном графике и сделать выводы о том, насколько эти значения близки. \n",
    "2. Использовать \"ящик с усами\"(boxplot). Подробно о построении и интерпретации см. материалы семинара 1.\n",
    "\n",
    "\n",
    "### 2. Проверка адекватности в задачах регрессии (критерии согласия)\n",
    "\n",
    "#### Статистические критерии\n",
    "\n",
    "**Определение**:\n",
    "\n",
    "Пусть $x_1, x_2, .., x_n$ - независимые наблюдения случайно величины с функцией распределения $F(x)$, которая нам не известна. Предположим, что нам нужно проверить гипотезу:\n",
    "\n",
    "$H_0: F(x) =F_0(X),$ \n",
    "\n",
    "где $F_0(x)$ - некоторая заданная функция распределения, которая может быть непрерывной или дискретной. Иными словами, мы проверяем, что генеральная совокупность, из которой получена выборка, распределена по определенному закону.  \n",
    "\n",
    "$𝐻_1$:  генеральная совокупность распределена по другому закону.\n",
    "\n",
    "Задача проверки такой гипотезы называется задачей *проверки согласия*, а критерии, используемые для этого, *критериями согласия*.\n",
    "\n",
    "**В регрессионном анализе критерии согласия позволяют оценивать значимость регрессионных моделей.**\n",
    "\n",
    "Наша конечная цель — определить статистическую значимость наших результатов. \n",
    "\n",
    "Чтобы узнать, является ли утверждение обоснованным или нет, мы будем использовать p-значение (p-value).\n",
    "\n",
    "Чем ниже значение p, тем более неожиданными являются доказательства, тем более нелепой выглядит наша нулевая гипотеза. И что мы делаем, когда чувствуем себя нелепо с нашей нулевой гипотезой? Мы отвергаем ее и выбираем нашу альтернативную гипотезу.\n",
    "\n",
    "ИТОГО: Нулевая гипотеза ($H_0$) принимается, когда значение p-value **превышает** установленный уровень значимости, обычно равный 0.05 (или 0,01, 0,1 и др.). Это означает, что вероятность получения наблюдаемых данных (или более экстремальных) при условии, что нулевая гипотеза верна, достаточно высока, и нет достаточных оснований для её отклонения.\n",
    "\n",
    "*Если вообще ничего об этом не помните, почитатйте эту статью https://habr.com/ru/companies/skillfactory/articles/510688/*\n",
    "\n",
    "*Если не хотите читать статью, но не помните что такое ***p-value***, посмотрите видео, где объясняют этот термин на щеночках* 🐶 *https://www.youtube.com/watch?v=9jW9G8MO4PQ*\n"
   ]
  },
  {
   "cell_type": "markdown",
   "metadata": {},
   "source": [
    "##### Критерий Пирсона (критерий $χ^2$)\n",
    "\n",
    "Статистический критерии согласия Пирсона используют следующие нулевую и альтернативную гипотезы:\n",
    "\n",
    "$H_0$ : (нулевая гипотеза) Модель не объясняет вариацию зависимой переменной (все коэффициенты равны нулю).\n",
    "\n",
    "$H_1$ : (альтернативная гипотеза) Модель объясняет вариацию зависимой переменной (по крайней мере один коэффициент не равен нулю).\n",
    "\n",
    "Мы используем следующую формулу для расчета статистики критерия хи-квадрат, $\\chi^2$ ,\n",
    "\n",
    "$\\chi^2 = \\sum_{i=1}^k \\frac {(y_i - y_i^*)^2}{y_i^*}$, где $k$ - количество проверяемых значений.\n",
    "\n",
    "Если **p-value**, соответствующее тестовой статистике $\\chi^2$, меньше выбранного вами уровня значимости, то вы можете отвергнуть нулевую гипотезу."
   ]
  },
  {
   "cell_type": "markdown",
   "metadata": {},
   "source": [
    "##### Критерий Фишера\n",
    "\n",
    "Критерий Фишера, также известный как F-критерий, применяется в статистике для проверки гипотез о равенстве дисперсий двух или более выборок.\n",
    "\n",
    "Точный тест Фишера использует следующие нулевые и альтернативные гипотезы:\n",
    "\n",
    "$H_0$ : Дисперсии двух выборок равны.\n",
    "\n",
    "$H_1$ : Дисперсии двух выборок не равны. Это предполагает, что существует статистически значимое различие в вариации данных между группами.\n",
    "\n",
    "В задаче регрессии этот критерий позволяет определить, насколько хорошо модель объясняет вариацию зависимой переменной по сравнению с вариацией, которая не объясняется моделью.\n",
    "\n",
    "F-критерий рассчитывается как $F = \\frac{s_1^2} {s_2^2}$, где $s_1^2, s_2^2$ - выборочные оценки дисперсий двух выборок.\n",
    "\n",
    "Если p-value меньше уровня значимости, то нулевая гипотеза отвергается."
   ]
  },
  {
   "cell_type": "markdown",
   "metadata": {},
   "source": [
    "##### Критерий Стьюдента (t-тест)\n",
    "\n",
    "Проверка гипотезы о равенстве средних для парных (связных) выборок. \n",
    "\n",
    "**Условия применения**:\n",
    "- Данные должны быть нормально распределены.\n",
    "- Выборки должны быть зависимыми, то есть каждая пара наблюдений должна быть связана (например, измерения одного и того же объекта до и после вмешательства).\n",
    "\n",
    "$H_0$ : Средняя разница между парами равна нулю. Это означает, что нет статистически значимых различий между средними значениями двух связанных выборок.\n",
    "\n",
    "$H_1$ : Средняя разница между парами не равна нулю.\n",
    "\n",
    "t-статистика рассчитывается как отношение оцененного коэффициента к его стандартной ошибке:\n",
    "\n",
    "$t =\\frac{\\bar{d}}{s_d / \\sqrt{n}} $, \n",
    "\n",
    "где $\\bar{d}$ - средняя разница между парами, $s_d$ - стандартное отклонение разностей, $n$ - количество наблюдений.\n",
    "\n",
    "Если **p-value меньше заданного уровня значимости**, то нулевая гипотеза отвергается. Это означает, что разница между средними значениями статистически значима."
   ]
  },
  {
   "cell_type": "markdown",
   "metadata": {},
   "source": [
    "### 3. Метрики\n",
    "\n",
    "В случае если планируется делать обобщения и использовать модель на других данных, то необходимы множественная проверка результатов модели на различных данных. Для этого используют так называемые метрики качества модели.\n",
    "\n",
    "1. **Коэффициент детерминации R^2** показывает долю дисперсии целевой переменной, объясненную моделью. \n",
    "\n",
    "$R^2 = 1 - \\frac{\\sum_{i=1}^{N} (y_i - f(x_i))^2}{\\sum_{i=1}^{N} (y_i - \\bar{y})^2}.$ В числителе - сумма квадратов ошибок предсказаний, в знаменателе - сумма квадратов разностей $y$ со средним значением.\n",
    "\n",
    "|Значение коэффициента | Интерпретация |\n",
    "|-----|-----|\n",
    "|$R^2 = 0$| $\\sum_{i=1}^{N} (y_i - f(x_i))^2 = \\sum_{i=1}^{N} (y_i - \\bar{y})^2$|\n",
    "|$R^2 < 0$| Очень плохая модель!|\n",
    "|$R^2 > 0.8$| Хорошая модель!|\n",
    "|$R^2 = 1$| Либо абсолютно тесная линейная зависимость $y$ от $x$, либо ошибка в расчётах|\n",
    "\n",
    "2. **MSE (Mean Square Error)** - Среднеквадратичная ошибка. Одна из самых популярных метрик в задаче регрессии. \n",
    "\n",
    "$MSE(y^{true}, y^{pred}) = \\frac1N\\sum_{i=1}^{N} (y_i - f(x_i))^2$\n",
    "\n",
    "Иногда для того, чтобы показатель эффективности MSE имел размерность исходных данных, из него извлекают квадратный корень и получают показатель эффективности **RMSE**.\n",
    "\n",
    "$RMSE = \\sqrt{MSE}$\n",
    "\n",
    "3. **MAE(mean absolute error)** - Средняя абсолютная ошибка \n",
    "\n",
    "Использовать RMSE для сравнения моделей на выборках с большим количеством выбросов может быть неудобно. В таких случаях прибегают к также знакомой вам в качестве функции потерь метрике MAE (mean absolute error):\n",
    "\n",
    "$MAE(y^{true}, y^{pred}) = \\frac{1}{N}\\sum_{i=1}^{N} \\left|y_i - f(x_i)\\right|$\n",
    "\n",
    "4. **MAPE(mean absolute percentage error)** - Средняя абсолютная ошибка в процентах \n",
    "\n",
    "В метрике MAPE (mean absolute percentage error) в знаменатель помещают целевое значение:\n",
    "\n",
    "$MAPE(y^{true}, y^{pred}) = \\frac{1}{N} \\sum_{i=1}^{N} \\frac{ \\left|y_i - f(x_i)\\right|}{\\left|y_i\\right|}$\n"
   ]
  },
  {
   "cell_type": "markdown",
   "metadata": {},
   "source": [
    "### Применение показателей качества модели\n",
    "\n",
    "1. В качестве функции потерь: RSS (сумма квадратов ошибок),  MSE \n",
    "2. Оценка качества модели на обучающей выборке: $R^2$\n",
    "3. Оценка качества модели на тестовой выборке: RMSE,  MAE ,  MAPE\n"
   ]
  },
  {
   "cell_type": "code",
   "execution_count": 3,
   "metadata": {},
   "outputs": [
    {
     "data": {
      "text/html": [
       "<div>\n",
       "<style scoped>\n",
       "    .dataframe tbody tr th:only-of-type {\n",
       "        vertical-align: middle;\n",
       "    }\n",
       "\n",
       "    .dataframe tbody tr th {\n",
       "        vertical-align: top;\n",
       "    }\n",
       "\n",
       "    .dataframe thead th {\n",
       "        text-align: right;\n",
       "    }\n",
       "</style>\n",
       "<table border=\"1\" class=\"dataframe\">\n",
       "  <thead>\n",
       "    <tr style=\"text-align: right;\">\n",
       "      <th></th>\n",
       "      <th>Open</th>\n",
       "      <th>High</th>\n",
       "      <th>Low</th>\n",
       "      <th>Close</th>\n",
       "      <th>lag</th>\n",
       "      <th>Days</th>\n",
       "    </tr>\n",
       "  </thead>\n",
       "  <tbody>\n",
       "    <tr>\n",
       "      <th>101</th>\n",
       "      <td>189.33</td>\n",
       "      <td>190.69</td>\n",
       "      <td>185.91</td>\n",
       "      <td>186.16</td>\n",
       "      <td>190.87</td>\n",
       "      <td>1</td>\n",
       "    </tr>\n",
       "    <tr>\n",
       "      <th>102</th>\n",
       "      <td>187.09</td>\n",
       "      <td>189.31</td>\n",
       "      <td>183.57</td>\n",
       "      <td>186.10</td>\n",
       "      <td>186.16</td>\n",
       "      <td>2</td>\n",
       "    </tr>\n",
       "    <tr>\n",
       "      <th>103</th>\n",
       "      <td>186.96</td>\n",
       "      <td>191.69</td>\n",
       "      <td>185.99</td>\n",
       "      <td>191.50</td>\n",
       "      <td>186.10</td>\n",
       "      <td>3</td>\n",
       "    </tr>\n",
       "    <tr>\n",
       "      <th>104</th>\n",
       "      <td>192.92</td>\n",
       "      <td>193.73</td>\n",
       "      <td>188.91</td>\n",
       "      <td>189.91</td>\n",
       "      <td>191.50</td>\n",
       "      <td>4</td>\n",
       "    </tr>\n",
       "    <tr>\n",
       "      <th>105</th>\n",
       "      <td>188.28</td>\n",
       "      <td>190.92</td>\n",
       "      <td>187.26</td>\n",
       "      <td>187.41</td>\n",
       "      <td>189.91</td>\n",
       "      <td>7</td>\n",
       "    </tr>\n",
       "  </tbody>\n",
       "</table>\n",
       "</div>"
      ],
      "text/plain": [
       "       Open    High     Low   Close     lag  Days\n",
       "101  189.33  190.69  185.91  186.16  190.87     1\n",
       "102  187.09  189.31  183.57  186.10  186.16     2\n",
       "103  186.96  191.69  185.99  191.50  186.10     3\n",
       "104  192.92  193.73  188.91  189.91  191.50     4\n",
       "105  188.28  190.92  187.26  187.41  189.91     7"
      ]
     },
     "execution_count": 3,
     "metadata": {},
     "output_type": "execute_result"
    }
   ],
   "source": [
    "# подготовим данные так же, как на семинаре 5\n",
    "\n",
    "# данные тут https://goo.su/PNlL\n",
    "\n",
    "import pandas as pd\n",
    "import numpy as np\n",
    "import matplotlib.pyplot as plt\n",
    "import seaborn as sns\n",
    "\n",
    "from sklearn.model_selection import train_test_split\n",
    "from sklearn.linear_model import LinearRegression\n",
    "\n",
    "data_path = \"C:/Users/Анна/Desktop/HSE courses/ML занятия/HSE ML/HSE ML/DataSets\"\n",
    "# Стоимость и объем продаж акций компании Google (работа с временными рядами, может быть решена задача прогнозирования)\n",
    "data1 = pd.read_csv(data_path + \"/DataSet1_3.csv\")\n",
    "# Выберем данные\n",
    "n1 = 101\n",
    "n2 = 300\n",
    "\n",
    "data1['lag'] = data1['Close'].iloc[n1-1:n2].shift(1).copy()\n",
    "\n",
    "data = data1[n1:n2].copy()\n",
    "\n",
    "data['Date'] = pd.to_datetime(data['Date'], format=\"%Y-%m-%d\")\n",
    "data['Days'] = (data['Date'] - data['Date'].iloc[0]).dt.days\n",
    "data['Days'] -= data['Days'].iloc[0] - 1\n",
    "data = data.drop(columns=['Date', 'Name', 'Volume'])\n",
    "\n",
    "data.head()"
   ]
  },
  {
   "cell_type": "code",
   "execution_count": 4,
   "metadata": {},
   "outputs": [],
   "source": [
    "# разбиваем данные на тренировочную и тестовую выборку\n",
    "X = data.drop(columns=['Close'])\n",
    "y = data['Close']\n",
    "\n",
    "x_train, x_test, y_train, y_test = train_test_split(X, y, test_size=0.2, shuffle=False)"
   ]
  },
  {
   "cell_type": "markdown",
   "metadata": {},
   "source": [
    "### МНК\n",
    "\n"
   ]
  },
  {
   "cell_type": "code",
   "execution_count": 5,
   "metadata": {},
   "outputs": [],
   "source": [
    "from sklearn.linear_model import LinearRegression\n",
    "\n",
    "model = LinearRegression()\n",
    "model.fit(np.array(x_train), np.array(y_train))\n",
    "res_mnk = model.predict(np.array(x_test))"
   ]
  },
  {
   "cell_type": "markdown",
   "metadata": {},
   "source": [
    "#### Визуальный анализ\n"
   ]
  },
  {
   "cell_type": "code",
   "execution_count": null,
   "metadata": {},
   "outputs": [
    {
     "data": {
      "image/png": "[encoded data removed]",
      "text/plain": [
       "<Figure size 1000x500 with 3 Axes>"
      ]
     },
     "metadata": {},
     "output_type": "display_data"
    }
   ],
   "source": [
    "fig, axs = plt.subplots(1, 3, figsize=(10, 5))\n",
    "axs[0].plot(x_test['Days'], res_mnk, label='МНК')\n",
    "axs[0].scatter(x_test['Days'], y_test, color='red', label='Данные')\n",
    "axs[0].set_title('Визуальная оценка результатов')\n",
    "axs[0].legend()\n",
    "axs[0].set_xlabel('X')\n",
    "\n",
    "# Второй подграфик: скрипичная диаграмма\n",
    "data = pd.DataFrame({\n",
    "    'Данные': y_test,\n",
    "    'Прогноз': res_mnk    \n",
    "})\n",
    "\n",
    "sns.violinplot(data=data, ax=axs[1])\n",
    "axs[1].set_title('Скрипичные диаграммы')\n",
    "axs[1].set_ylabel('Значения')\n",
    "axs[1].set_xlabel('Выборки')\n",
    "\n",
    "axs[2].boxplot([ y_test, res_mnk])\n",
    "axs[2].set_title('Boxplot')\n",
    "axs[2].set_xticklabels(['Данные', 'Прогноз'])\n",
    "\n",
    "plt.tight_layout()  # Автоматическое выравнивание подграфиков\n",
    "plt.show()"
   ]
  },
  {
   "cell_type": "markdown",
   "metadata": {},
   "source": [
    "По графиками мы можем сравнить характеристики разброса значений: медианные значения практически совпадают, границы квартилей чуть сдвинуты (*что это значит? подумайте!*), \"границы усов\" — границы статистически значимой выборки, тоже несколько сдвинуты, разброс значений по прогнозу чуть больше, чем реальные значения. Выбросов не наблюдается."
   ]
  },
  {
   "cell_type": "markdown",
   "metadata": {},
   "source": [
    "#### Статистическая оценка\n",
    "Для выполнения анализа с использованием статистических критериев согласия в Python, вы можете воспользоваться библиотекой scipy."
   ]
  },
  {
   "cell_type": "code",
   "execution_count": 38,
   "metadata": {},
   "outputs": [
    {
     "name": "stdout",
     "output_type": "stream",
     "text": [
      "Статистика хи-квадрат: 0.23799461481906437\n",
      "p-value: 1.0\n",
      "Нулевая гипотеза не отвергается: выборки имеют схожие распределения.\n"
     ]
    }
   ],
   "source": [
    "# Приведение y_test к той же сумме, что и reas_mnk\n",
    "y_test_normalized = y_test / np.sum(y_test) * np.sum(res_mnk)\n",
    "\n",
    "# Выполнение теста согласия Пирсона\n",
    "chi2_statistic, p_value = stats.chisquare(f_obs=res_mnk, f_exp=y_test_normalized)\n",
    "\n",
    "# Вывод результатов\n",
    "print(f\"Статистика хи-квадрат: {chi2_statistic}\")\n",
    "print(f\"p-value: {p_value}\")\n",
    "\n",
    "# Интерпретация результата\n",
    "alpha = 0.05\n",
    "if p_value < alpha:\n",
    "    print(\"Нулевая гипотеза отвергается: выборки имеют разные распределения.\")\n",
    "else:\n",
    "    print(\"Нулевая гипотеза не отвергается: выборки имеют схожие распределения.\")"
   ]
  },
  {
   "cell_type": "code",
   "execution_count": 40,
   "metadata": {},
   "outputs": [
    {
     "name": "stdout",
     "output_type": "stream",
     "text": [
      "Статистика F: 0.012212929849377033\n",
      "P-значение: 0.9122870926057337\n"
     ]
    }
   ],
   "source": [
    "# тест Фишера\n",
    "\n",
    "# Выполнение F-теста\n",
    "f_statistic, p_value = stats.f_oneway(res_mnk, y_test)\n",
    "\n",
    "# Вывод результатов\n",
    "print(f\"Статистика F: {f_statistic}\")\n",
    "print(f\"P-значение: {p_value}\")\n",
    "\n",
    "# TODO: добавьте интерпретацию результата"
   ]
  },
  {
   "cell_type": "code",
   "execution_count": 45,
   "metadata": {},
   "outputs": [
    {
     "name": "stdout",
     "output_type": "stream",
     "text": [
      "Результат t-теста: 1.1464036292719169\n",
      "p-value: 0.25861344075405684\n"
     ]
    }
   ],
   "source": [
    "# t-тест Стьюдента\n",
    "\n",
    "t_statistic, p_value = stats.ttest_rel(y_test, res_mnk)\n",
    "print(f\"Результат t-теста: {t_statistic}\")\n",
    "print(f\"p-value: {p_value}\")\n",
    "\n",
    "# TODO: добавьте интерпретацию результата"
   ]
  },
  {
   "cell_type": "markdown",
   "metadata": {},
   "source": [
    "### Метрики"
   ]
  },
  {
   "cell_type": "code",
   "execution_count": 8,
   "metadata": {},
   "outputs": [
    {
     "data": {
      "text/html": [
       "<div>\n",
       "<style scoped>\n",
       "    .dataframe tbody tr th:only-of-type {\n",
       "        vertical-align: middle;\n",
       "    }\n",
       "\n",
       "    .dataframe tbody tr th {\n",
       "        vertical-align: top;\n",
       "    }\n",
       "\n",
       "    .dataframe thead th {\n",
       "        text-align: right;\n",
       "    }\n",
       "</style>\n",
       "<table border=\"1\" class=\"dataframe\">\n",
       "  <thead>\n",
       "    <tr style=\"text-align: right;\">\n",
       "      <th></th>\n",
       "      <th>MSE</th>\n",
       "      <th>RMSE</th>\n",
       "      <th>R2</th>\n",
       "      <th>MAE</th>\n",
       "      <th>MAPE</th>\n",
       "    </tr>\n",
       "  </thead>\n",
       "  <tbody>\n",
       "    <tr>\n",
       "      <th>Least Squares</th>\n",
       "      <td>14.330918</td>\n",
       "      <td>3.78562</td>\n",
       "      <td>0.807059</td>\n",
       "      <td>3.018788</td>\n",
       "      <td>1.283%</td>\n",
       "    </tr>\n",
       "  </tbody>\n",
       "</table>\n",
       "</div>"
      ],
      "text/plain": [
       "                     MSE     RMSE        R2       MAE    MAPE\n",
       "Least Squares  14.330918  3.78562  0.807059  3.018788  1.283%"
      ]
     },
     "execution_count": 8,
     "metadata": {},
     "output_type": "execute_result"
    }
   ],
   "source": [
    "# для практики, давайте посчитаем руками\n",
    "\n",
    "def regression_error_metrics(model, x_train, y_train, X_test, y_test, model_name=''):\n",
    "    model.fit(x_train, y_train)\n",
    "    y_pred = model.predict(X_test)\n",
    "    n = len(y_test)\n",
    "    \n",
    "    MSE = (1/n) * np.sum((y_test - y_pred)**2)\n",
    "    RMSE = MSE**0.5\n",
    "    R2 = 1 - (np.sum((y_test - y_pred)**2))/(np.sum((y_test - np.mean(y_test))**2))\n",
    "    MAE = (1/n) * np.sum(abs(y_test - y_pred))\n",
    "    MAPE = (1/n) *  np.sum(abs((y_test - y_pred)/y_test))\n",
    "        \n",
    "    model_error_metrics = {\n",
    "        'MSE': MSE,\n",
    "        'RMSE': RMSE,\n",
    "        'R2': R2,\n",
    "        'MAE': MAE,\n",
    "        'MAPE': MAPE}\n",
    "    \n",
    "    result = pd.DataFrame({\n",
    "        'MSE': MSE,\n",
    "        'RMSE': RMSE,\n",
    "        'R2': R2,\n",
    "        'MAE': MAE,\n",
    "        'MAPE': \"{:.3%}\".format(MAPE)},\n",
    "        index=[model_name])        \n",
    "        \n",
    "    return model_error_metrics, result\n",
    "\n",
    "_, result = regression_error_metrics(model, x_train, y_train, x_test, y_test, model_name='Least Squares')\n",
    "\n",
    "result"
   ]
  },
  {
   "cell_type": "markdown",
   "metadata": {},
   "source": [
    "КОНЕЧНО, можно и встроенными в sklearn метриками\n",
    "\n",
    "https://scikit-learn.org/stable/modules/model_evaluation.html"
   ]
  },
  {
   "cell_type": "code",
   "execution_count": 9,
   "metadata": {},
   "outputs": [
    {
     "name": "stdout",
     "output_type": "stream",
     "text": [
      "14.33, 3.79, 0.81, 3.02, 1.283%\n"
     ]
    }
   ],
   "source": [
    "from sklearn.metrics import mean_squared_error, r2_score, mean_absolute_error, mean_absolute_percentage_error\n",
    "\n",
    "MSE = mean_squared_error(y_test, res_mnk)\n",
    "RMSE = MSE**0.5\n",
    "R2 = r2_score(y_test, res_mnk)\n",
    "MAE = mean_absolute_error(y_test, res_mnk)\n",
    "MAPE = mean_absolute_percentage_error(y_test, res_mnk)\n",
    "print(f\"{MSE:.2f}, {RMSE:.2f}, {R2:.2f}, {MAE:.2f}, {MAPE:.3%}\")"
   ]
  },
  {
   "cell_type": "markdown",
   "metadata": {},
   "source": [
    "### Интерпретация результатов\n",
    "\n",
    "..."
   ]
  },
  {
   "cell_type": "markdown",
   "metadata": {},
   "source": [
    "Ваша задача применить все описанные выше измерения ко всем моделям, построенным после семинара 5 и сделать вывод о качестве предсказаний.\n"
   ]
  },
  {
   "cell_type": "markdown",
   "metadata": {},
   "source": [
    "Для дополнительных баллов можно использовать тесты:\n",
    "\n",
    "#### Критерии для проверки нормальности распределения\n",
    "- Критерий Мизеса \n",
    "- Критерий Андерсона-Дарлинга \n",
    "- Критерий Шапиро-Франсиа \n",
    "- Критерий Лилифорса \n",
    "\n",
    "#### Критерии проверки однородности выборок\n",
    "- Критерий Вилкоксона \n",
    "\n",
    "#### Критреии сравнения масштаба\n",
    "- Критерий Ансари-Брэдли\n",
    "- Критерий Муда \n"
   ]
  }
 ],
 "metadata": {
  "kernelspec": {
   "display_name": "MNE_env",
   "language": "python",
   "name": "python3"
  },
  "language_info": {
   "codemirror_mode": {
    "name": "ipython",
    "version": 3
   },
   "file_extension": ".py",
   "mimetype": "text/x-python",
   "name": "python",
   "nbconvert_exporter": "python",
   "pygments_lexer": "ipython3",
   "version": "3.10.12"
  },
  "orig_nbformat": 4
 },
 "nbformat": 4,
 "nbformat_minor": 2
}
